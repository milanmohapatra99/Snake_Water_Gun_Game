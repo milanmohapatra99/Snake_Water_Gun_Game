{
 "cells": [
  {
   "cell_type": "code",
   "execution_count": 17,
   "id": "349b4a7a",
   "metadata": {},
   "outputs": [
    {
     "name": "stdout",
     "output_type": "stream",
     "text": [
      "player 1 Turn: Snake(s) Water(w) or Gun(g)?\n",
      "player 2 Turn: Snake(s) Water(w) or Gun(g)?g\n",
      "plyr1 choose s\n",
      "plyr2 choose g\n",
      "You Win!\n"
     ]
    }
   ],
   "source": [
    "import random\n",
    "def gamewin(plyr1,plyr2):\n",
    "    if plyr1 == plyr2:\n",
    "        return None\n",
    "    elif plyr1 == 's':\n",
    "        if plyr2 == 'w':\n",
    "            return False\n",
    "        elif plyr2 == 'g':\n",
    "            return True\n",
    "    elif plyr1 == 'w':\n",
    "        if plyr2 == 'g':\n",
    "            return False\n",
    "        elif plyr2 == 's':\n",
    "            return True\n",
    "    elif plyr1 == 'g':\n",
    "         if plyr2 == 's':\n",
    "             return False\n",
    "         elif plyr2 == 'w':\n",
    "             return True\n",
    "print(\"player 1 Turn: Snake(s) Water(w) or Gun(g)?\")\n",
    "randno = random.randint(1,3)\n",
    "if randno == 1:\n",
    "    plyr1 = 's'\n",
    "elif randno == 2:\n",
    "    plyr1 ='w'\n",
    "elif randno == 3:\n",
    "    plyr1 ='g'\n",
    "plyr2 = input(\"player 2 Turn: Snake(s) Water(w) or Gun(g)?\")\n",
    "a = gamewin(plyr1,plyr2)\n",
    "print(f\"plyr1 choose {plyr1}\")\n",
    "print(f\"plyr2 choose {plyr2}\")\n",
    "if a == None:\n",
    "    print(\"The game is a tie!\")\n",
    "elif a:\n",
    "    print(\"You Win!\")\n",
    "else:\n",
    "    print(\"You Loose\")"
   ]
  },
  {
   "cell_type": "code",
   "execution_count": null,
   "id": "05725df2",
   "metadata": {},
   "outputs": [],
   "source": []
  },
  {
   "cell_type": "code",
   "execution_count": null,
   "id": "0b5ad089",
   "metadata": {},
   "outputs": [],
   "source": []
  }
 ],
 "metadata": {
  "kernelspec": {
   "display_name": "Python 3 (ipykernel)",
   "language": "python",
   "name": "python3"
  },
  "language_info": {
   "codemirror_mode": {
    "name": "ipython",
    "version": 3
   },
   "file_extension": ".py",
   "mimetype": "text/x-python",
   "name": "python",
   "nbconvert_exporter": "python",
   "pygments_lexer": "ipython3",
   "version": "3.9.7"
  }
 },
 "nbformat": 4,
 "nbformat_minor": 5
}
